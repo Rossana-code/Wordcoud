{
 "cells": [
  {
   "cell_type": "code",
   "execution_count": 1,
   "metadata": {},
   "outputs": [
    {
     "ename": "ModuleNotFoundError",
     "evalue": "No module named 'seaborn'",
     "output_type": "error",
     "traceback": [
      "\u001b[0;31m---------------------------------------------------------------------------\u001b[0m",
      "\u001b[0;31mModuleNotFoundError\u001b[0m                       Traceback (most recent call last)",
      "\u001b[1;32m/Users/rossana/Desktop/cours mairie/cours ADD/7.ipynb Cell 1\u001b[0m line \u001b[0;36m6\n\u001b[1;32m      <a href='vscode-notebook-cell:/Users/rossana/Desktop/cours%20mairie/cours%20ADD/7.ipynb#W1sZmlsZQ%3D%3D?line=3'>4</a>\u001b[0m \u001b[39mimport\u001b[39;00m \u001b[39mpandas\u001b[39;00m \u001b[39mas\u001b[39;00m \u001b[39mpd\u001b[39;00m\n\u001b[1;32m      <a href='vscode-notebook-cell:/Users/rossana/Desktop/cours%20mairie/cours%20ADD/7.ipynb#W1sZmlsZQ%3D%3D?line=4'>5</a>\u001b[0m \u001b[39mimport\u001b[39;00m \u001b[39mmatplotlib\u001b[39;00m\u001b[39m.\u001b[39;00m\u001b[39mpyplot\u001b[39;00m \u001b[39mas\u001b[39;00m \u001b[39mplt\u001b[39;00m\n\u001b[0;32m----> <a href='vscode-notebook-cell:/Users/rossana/Desktop/cours%20mairie/cours%20ADD/7.ipynb#W1sZmlsZQ%3D%3D?line=5'>6</a>\u001b[0m \u001b[39mimport\u001b[39;00m \u001b[39mseaborn\u001b[39;00m \u001b[39mas\u001b[39;00m \u001b[39msns\u001b[39;00m\n\u001b[1;32m      <a href='vscode-notebook-cell:/Users/rossana/Desktop/cours%20mairie/cours%20ADD/7.ipynb#W1sZmlsZQ%3D%3D?line=6'>7</a>\u001b[0m \u001b[39mimport\u001b[39;00m \u001b[39mnumpy\u001b[39;00m \u001b[39mas\u001b[39;00m \u001b[39mnp\u001b[39;00m\n",
      "\u001b[0;31mModuleNotFoundError\u001b[0m: No module named 'seaborn'"
     ]
    }
   ],
   "source": [
    "import warnings\n",
    "warnings.filterwarnings(\"ignore\")\n",
    "\n",
    "import pandas as pd\n",
    "import matplotlib.pyplot as plt\n",
    "import seaborn as sns\n",
    "import numpy as np"
   ]
  },
  {
   "cell_type": "code",
   "execution_count": null,
   "metadata": {},
   "outputs": [],
   "source": [
    "import nltk"
   ]
  },
  {
   "cell_type": "code",
   "execution_count": null,
   "metadata": {},
   "outputs": [
    {
     "name": "stderr",
     "output_type": "stream",
     "text": [
      "[nltk_data] Downloading package punkt to /Users/rossana/nltk_data...\n",
      "[nltk_data]   Unzipping tokenizers/punkt.zip.\n"
     ]
    },
    {
     "data": {
      "text/plain": [
       "True"
      ]
     },
     "execution_count": 3,
     "metadata": {},
     "output_type": "execute_result"
    }
   ],
   "source": [
    "nltk.download('punkt')"
   ]
  },
  {
   "cell_type": "code",
   "execution_count": null,
   "metadata": {},
   "outputs": [],
   "source": [
    "from nltk import word_tokenize"
   ]
  },
  {
   "cell_type": "code",
   "execution_count": null,
   "metadata": {},
   "outputs": [
    {
     "data": {
      "text/plain": [
       "['Bonjour',\n",
       " 'tout',\n",
       " 'le',\n",
       " 'monde',\n",
       " ',',\n",
       " 'il',\n",
       " 'fait',\n",
       " 'beau',\n",
       " 'aujourdui',\n",
       " 'nous',\n",
       " 'allons',\n",
       " 'sortir',\n",
       " 'cet',\n",
       " 'aprem']"
      ]
     },
     "execution_count": 7,
     "metadata": {},
     "output_type": "execute_result"
    }
   ],
   "source": [
    "token = word_tokenize(u'Bonjour tout le monde , il fait beau aujourdui nous allons sortir cet aprem')\n",
    "token\n",
    "# Ou une phase en Anglais"
   ]
  },
  {
   "cell_type": "code",
   "execution_count": null,
   "metadata": {},
   "outputs": [
    {
     "name": "stderr",
     "output_type": "stream",
     "text": [
      "[nltk_data] Downloading package averaged_perceptron_tagger to\n",
      "[nltk_data]     /Users/rossana/nltk_data...\n",
      "[nltk_data]   Unzipping taggers/averaged_perceptron_tagger.zip.\n",
      "[nltk_data] Downloading package maxent_ne_chunker to\n",
      "[nltk_data]     /Users/rossana/nltk_data...\n",
      "[nltk_data]   Unzipping chunkers/maxent_ne_chunker.zip.\n",
      "[nltk_data] Downloading package words to /Users/rossana/nltk_data...\n",
      "[nltk_data]   Unzipping corpora/words.zip.\n"
     ]
    },
    {
     "data": {
      "text/plain": [
       "True"
      ]
     },
     "execution_count": 4,
     "metadata": {},
     "output_type": "execute_result"
    }
   ],
   "source": [
    "nltk.download('averaged_perceptron_tagger')\n",
    "nltk.download('maxent_ne_chunker')\n",
    "nltk.download('words')"
   ]
  },
  {
   "cell_type": "code",
   "execution_count": null,
   "metadata": {},
   "outputs": [],
   "source": [
    "from nltk import word_tokenize , pos_tag , ne_chunk\n",
    "# pos_tag : permet de reconnaitre les lieux et ne_chunk des personnes"
   ]
  },
  {
   "cell_type": "code",
   "execution_count": null,
   "metadata": {},
   "outputs": [
    {
     "name": "stdout",
     "output_type": "stream",
     "text": [
      "(S\n",
      "  (PERSON John/NNP)\n",
      "  works/VBZ\n",
      "  at/IN\n",
      "  (ORGANIZATION Linkedin/NNP)\n",
      "  in/IN\n",
      "  (GPE Paris/NNP)\n",
      "  in/IN\n",
      "  (GPE France/NNP))\n"
     ]
    }
   ],
   "source": [
    "token = word_tokenize(u'John works at Linkedin in Paris in France')\n",
    "print(ne_chunk(pos_tag(token)))\n",
    "\n",
    "# GPE : lieu"
   ]
  },
  {
   "cell_type": "code",
   "execution_count": null,
   "metadata": {},
   "outputs": [
    {
     "name": "stdout",
     "output_type": "stream",
     "text": [
      "say\n",
      "échappé\n",
      "échappé\n"
     ]
    }
   ],
   "source": [
    "#Exemple :\n",
    "from nltk.stem.porter import PorterStemmer # PorterStemmer est lematiseur\n",
    "ps = PorterStemmer()\n",
    "# ps : cette variable contient toutes les librairies d'analyse necessaires\n",
    "\n",
    "print(ps.stem(\"saying\")) # say\n",
    "print(ps.stem(\"échappées\")) # échappé : ramener au masculin\n",
    "print(ps.stem(\"échappée\"))"
   ]
  },
  {
   "cell_type": "code",
   "execution_count": null,
   "metadata": {},
   "outputs": [
    {
     "data": {
      "text/plain": [
       "'navig'"
      ]
     },
     "execution_count": 9,
     "metadata": {},
     "output_type": "execute_result"
    }
   ],
   "source": [
    "from nltk.stem import SnowballStemmer\n",
    "snow = SnowballStemmer('french')\n",
    "snow.stem('navigatrice') # navig on a la racine navig"
   ]
  },
  {
   "cell_type": "code",
   "execution_count": null,
   "metadata": {},
   "outputs": [],
   "source": [
    "import spacy"
   ]
  },
  {
   "cell_type": "code",
   "execution_count": null,
   "metadata": {},
   "outputs": [
    {
     "data": {
      "text/plain": [
       "<spacy.lang.fr.French at 0x12dcdffe0>"
      ]
     },
     "execution_count": 4,
     "metadata": {},
     "output_type": "execute_result"
    }
   ],
   "source": [
    "spacy.load('en_core_web_sm')\n",
    "spacy.load('fr_core_news_sm')"
   ]
  },
  {
   "cell_type": "code",
   "execution_count": null,
   "metadata": {},
   "outputs": [
    {
     "data": {
      "text/plain": [
       "John works at Linkedin in Paris in France. He is very happy to work their"
      ]
     },
     "execution_count": 7,
     "metadata": {},
     "output_type": "execute_result"
    }
   ],
   "source": [
    "nlp = spacy.load('en_core_web_sm')\n",
    "\n",
    "doc = nlp(u'John works at Linkedin in Paris in France. He is very happy to work their')\n",
    "doc"
   ]
  },
  {
   "cell_type": "code",
   "execution_count": null,
   "metadata": {},
   "outputs": [
    {
     "data": {
      "text/plain": [
       "(John, Linkedin, Paris, France)"
      ]
     },
     "execution_count": 8,
     "metadata": {},
     "output_type": "execute_result"
    }
   ],
   "source": [
    "doc.ents # On obtients les éléments clés"
   ]
  },
  {
   "cell_type": "code",
   "execution_count": null,
   "metadata": {},
   "outputs": [
    {
     "name": "stdout",
     "output_type": "stream",
     "text": [
      "Apple Apple\n",
      "is be\n",
      "looking look\n",
      "at at\n",
      "buying buy\n",
      "U.K. U.K.\n",
      "startup startup\n",
      "for for\n",
      "$ $\n",
      "1 1\n",
      "billion billion\n"
     ]
    }
   ],
   "source": [
    "doc = nlp(u'Apple is looking at buying U.K. startup for $1 billion')\n",
    "for token in doc:\n",
    "    print(token.text , token.lemma_)"
   ]
  },
  {
   "cell_type": "code",
   "execution_count": null,
   "metadata": {},
   "outputs": [
    {
     "name": "stdout",
     "output_type": "stream",
     "text": [
      "Cette DET\n",
      "entreprise NOUN\n",
      "a AUX\n",
      "été AUX\n",
      "achetée VERB\n",
      "1 NUM\n",
      "millions NOUN\n",
      "d' ADP\n",
      "euros NOUN\n"
     ]
    }
   ],
   "source": [
    "nlp = spacy.load('fr_core_news_sm')\n",
    "doc = nlp(u\"Cette entreprise a été achetée 1 millions d'euros \")\n",
    "\n",
    "for token in doc:\n",
    "    print(token.text , token.pos_)"
   ]
  },
  {
   "cell_type": "code",
   "execution_count": null,
   "metadata": {},
   "outputs": [
    {
     "name": "stdout",
     "output_type": "stream",
     "text": [
      "CountVectorizer()\n",
      "--------------\n"
     ]
    }
   ],
   "source": [
    "from sklearn.feature_extraction.text import CountVectorizer\n",
    "\n",
    "# Création d'un sac vide\n",
    "vectorizer = CountVectorizer()\n",
    "print(vectorizer)\n",
    "print('--------------')"
   ]
  },
  {
   "cell_type": "code",
   "execution_count": null,
   "metadata": {},
   "outputs": [
    {
     "name": "stdout",
     "output_type": "stream",
     "text": [
      "['un jour ici et là', 'demain mais pas ici', 'la la la lere']\n",
      "--------------\n"
     ]
    }
   ],
   "source": [
    "# Création d'un corpus\n",
    "corpus = ['un jour ici et là', 'demain mais pas ici', 'la la la lere']\n",
    "print(corpus)\n",
    "print('--------------')"
   ]
  },
  {
   "cell_type": "code",
   "execution_count": null,
   "metadata": {},
   "outputs": [
    {
     "name": "stdout",
     "output_type": "stream",
     "text": [
      "  (0, 1)\t1\n",
      "  (0, 2)\t1\n",
      "  (0, 3)\t1\n",
      "  (0, 6)\t1\n",
      "  (0, 9)\t1\n",
      "  (1, 0)\t1\n",
      "  (1, 2)\t1\n",
      "  (1, 7)\t1\n",
      "  (1, 8)\t1\n",
      "  (2, 4)\t3\n",
      "  (2, 5)\t1\n",
      "--------------\n"
     ]
    }
   ],
   "source": [
    "# Calcul du sac\n",
    "vectorizer.fit(corpus)\n",
    "bow = vectorizer.transform(corpus)\n",
    "print(bow)\n",
    "print('--------------')"
   ]
  },
  {
   "cell_type": "code",
   "execution_count": null,
   "metadata": {},
   "outputs": [
    {
     "name": "stdout",
     "output_type": "stream",
     "text": [
      "['demain' 'et' 'ici' 'jour' 'la' 'lere' 'là' 'mais' 'pas' 'un']\n"
     ]
    }
   ],
   "source": [
    "feature_names = vectorizer.get_feature_names_out() # Utilisation de get_feature_names_out()\n",
    "print(feature_names)"
   ]
  },
  {
   "cell_type": "code",
   "execution_count": null,
   "metadata": {},
   "outputs": [
    {
     "data": {
      "text/plain": [
       "array([[0, 1, 1, 1, 0, 0, 1, 0, 0, 1],\n",
       "       [1, 0, 1, 0, 0, 0, 0, 1, 1, 0],\n",
       "       [0, 0, 0, 0, 3, 1, 0, 0, 0, 0]])"
      ]
     },
     "execution_count": 21,
     "metadata": {},
     "output_type": "execute_result"
    }
   ],
   "source": [
    "# Binairisation\n",
    "\n",
    "bow.toarray() # presence ou absece d'un mot dans un document"
   ]
  },
  {
   "cell_type": "code",
   "execution_count": null,
   "metadata": {},
   "outputs": [
    {
     "name": "stdout",
     "output_type": "stream",
     "text": [
      "   demain  et  ici  jour  la  lere  là  mais  pas  un\n",
      "0       0   1    1     1   0     0   1     0    0   1\n",
      "1       1   0    1     0   0     0   0     1    1   0\n",
      "2       0   0    0     0   3     1   0     0    0   0\n"
     ]
    }
   ],
   "source": [
    "# Binairisation en format pandas\n",
    "\n",
    "# Convertir bow en array et utiliser get_feature_names_out() pour les noms de colonnes\n",
    "df = pd.DataFrame(bow.toarray(), columns=vectorizer.get_feature_names_out())\n",
    "print(df)"
   ]
  },
  {
   "cell_type": "code",
   "execution_count": null,
   "metadata": {},
   "outputs": [
    {
     "data": {
      "text/plain": [
       "<3x10 sparse matrix of type '<class 'numpy.int64'>'\n",
       "\twith 12 stored elements in Compressed Sparse Row format>"
      ]
     },
     "execution_count": 3,
     "metadata": {},
     "output_type": "execute_result"
    }
   ],
   "source": [
    "from sklearn.feature_extraction.text import CountVectorizer # compter\n",
    "from sklearn.feature_extraction.text import TfidfTransformer # poids\n",
    "\n",
    "corpus = ['un jour ici et là ' , 'demain mais pas la la la ici' , 'la la la la la la lere']\n",
    "\n",
    "vectorizer = CountVectorizer()\n",
    "\n",
    "# comptage\n",
    "counts = vectorizer.fit_transform(corpus)\n",
    "counts"
   ]
  },
  {
   "cell_type": "code",
   "execution_count": null,
   "metadata": {},
   "outputs": [
    {
     "data": {
      "text/plain": [
       "array([1.69314718, 1.69314718, 1.28768207, 1.69314718, 1.28768207,\n",
       "       1.69314718, 1.69314718, 1.69314718, 1.69314718, 1.69314718])"
      ]
     },
     "execution_count": 4,
     "metadata": {},
     "output_type": "execute_result"
    }
   ],
   "source": [
    "# calcul TFIDF à partir du comptage\n",
    "transformer = TfidfTransformer()\n",
    "transformer.fit_transform(counts)\n",
    "# IFIDF diminue la ponderatin des presents dans plusieurs documents.\n",
    "# Exemple les mots \"ici\" & \"la\"\n",
    "\n",
    "transformer.idf_ # les poids\n",
    "# len(transformer.idf_)"
   ]
  },
  {
   "cell_type": "code",
   "execution_count": null,
   "metadata": {},
   "outputs": [
    {
     "name": "stdout",
     "output_type": "stream",
     "text": [
      "             IDF\n",
      "demain  1.693147\n",
      "et      1.693147\n",
      "ici     1.287682\n",
      "jour    1.693147\n",
      "la      1.287682\n",
      "lere    1.693147\n",
      "là      1.693147\n",
      "mais    1.693147\n",
      "pas     1.693147\n",
      "un      1.693147\n"
     ]
    }
   ],
   "source": [
    "# Création du dictionnaire à partir des noms des caractéristiques et des scores IDF\n",
    "dic = dict(zip(vectorizer.get_feature_names_out(), transformer.idf_))\n",
    "\n",
    "# Création du DataFrame à partir du dictionnaire\n",
    "df = pd.DataFrame.from_dict(dic, orient=\"index\", columns=['IDF'])\n",
    "print(df)"
   ]
  },
  {
   "cell_type": "code",
   "execution_count": null,
   "metadata": {},
   "outputs": [],
   "source": [
    "from wordcloud import WordCloud"
   ]
  },
  {
   "cell_type": "code",
   "execution_count": 2,
   "metadata": {},
   "outputs": [
    {
     "ename": "NameError",
     "evalue": "name 'corpus' is not defined",
     "output_type": "error",
     "traceback": [
      "\u001b[0;31m---------------------------------------------------------------------------\u001b[0m",
      "\u001b[0;31mNameError\u001b[0m                                 Traceback (most recent call last)",
      "\u001b[1;32m/Users/rossana/Desktop/cours mairie/cours ADD/7.ipynb Cell 27\u001b[0m line \u001b[0;36m1\n\u001b[0;32m----> <a href='vscode-notebook-cell:/Users/rossana/Desktop/cours%20mairie/cours%20ADD/7.ipynb#X41sZmlsZQ%3D%3D?line=0'>1</a>\u001b[0m all_text \u001b[39m=\u001b[39m \u001b[39m'\u001b[39m\u001b[39m \u001b[39m\u001b[39m'\u001b[39m\u001b[39m.\u001b[39mjoin(corpus)\n\u001b[1;32m      <a href='vscode-notebook-cell:/Users/rossana/Desktop/cours%20mairie/cours%20ADD/7.ipynb#X41sZmlsZQ%3D%3D?line=1'>2</a>\u001b[0m all_text\n",
      "\u001b[0;31mNameError\u001b[0m: name 'corpus' is not defined"
     ]
    }
   ],
   "source": [
    "all_text = ' '.join(corpus)\n",
    "all_text"
   ]
  },
  {
   "cell_type": "code",
   "execution_count": null,
   "metadata": {},
   "outputs": [],
   "source": [
    "wordcloud = WordCloud(width = 800, height = 800,\n",
    "background_color ='white',\n",
    "min_font_size = 10).generate(all_text)"
   ]
  },
  {
   "cell_type": "code",
   "execution_count": null,
   "metadata": {},
   "outputs": [
    {
     "data": {
      "image/png": "[encoded data removed]",
      "text/plain": [
       "<Figure size 400x400 with 1 Axes>"
      ]
     },
     "metadata": {},
     "output_type": "display_data"
    }
   ],
   "source": [
    "# Afficher le nuage de mots\n",
    "plt.figure(figsize = (4, 4), facecolor = None)\n",
    "plt.imshow(wordcloud)\n",
    "plt.axis(\"off\")\n",
    "plt.tight_layout(pad = 0)\n",
    "plt.show()"
   ]
  },
  {
   "cell_type": "code",
   "execution_count": null,
   "metadata": {},
   "outputs": [],
   "source": [
    "from nltk.probability import FreqDist"
   ]
  },
  {
   "cell_type": "code",
   "execution_count": null,
   "metadata": {},
   "outputs": [],
   "source": [
    "import nltk"
   ]
  },
  {
   "cell_type": "code",
   "execution_count": null,
   "metadata": {},
   "outputs": [
    {
     "name": "stderr",
     "output_type": "stream",
     "text": [
      "[nltk_data] Downloading package punkt to /Users/rossana/nltk_data...\n",
      "[nltk_data]   Package punkt is already up-to-date!\n"
     ]
    },
    {
     "data": {
      "text/plain": [
       "True"
      ]
     },
     "execution_count": 4,
     "metadata": {},
     "output_type": "execute_result"
    }
   ],
   "source": [
    "nltk.download('punkt')"
   ]
  },
  {
   "cell_type": "code",
   "execution_count": null,
   "metadata": {},
   "outputs": [
    {
     "ename": "NameError",
     "evalue": "name 'all_text' is not defined",
     "output_type": "error",
     "traceback": [
      "\u001b[0;31m---------------------------------------------------------------------------\u001b[0m",
      "\u001b[0;31mNameError\u001b[0m                                 Traceback (most recent call last)",
      "\u001b[1;32m/Users/rossana/Desktop/cours mairie/cours ADD/7.ipynb Cell 33\u001b[0m line \u001b[0;36m1\n\u001b[0;32m----> <a href='vscode-notebook-cell:/Users/rossana/Desktop/cours%20mairie/cours%20ADD/7.ipynb#X43sZmlsZQ%3D%3D?line=0'>1</a>\u001b[0m tokens \u001b[39m=\u001b[39m nltk\u001b[39m.\u001b[39mword_tokenize(all_text)\n\u001b[1;32m      <a href='vscode-notebook-cell:/Users/rossana/Desktop/cours%20mairie/cours%20ADD/7.ipynb#X43sZmlsZQ%3D%3D?line=2'>3</a>\u001b[0m \u001b[39m# Calcul de la fréquence des mots\u001b[39;00m\n\u001b[1;32m      <a href='vscode-notebook-cell:/Users/rossana/Desktop/cours%20mairie/cours%20ADD/7.ipynb#X43sZmlsZQ%3D%3D?line=3'>4</a>\u001b[0m fdist \u001b[39m=\u001b[39m FreqDist(tokens)\n",
      "\u001b[0;31mNameError\u001b[0m: name 'all_text' is not defined"
     ]
    }
   ],
   "source": [
    "tokens = nltk.word_tokenize(all_text)\n",
    "\n",
    "# Calcul de la fréquence des mots\n",
    "fdist = FreqDist(tokens)\n",
    "\n",
    "# Préparation des données pour le graphique\n",
    "words = [word for word, freq in fdist.most_common(20)]\n",
    "print(words)\n",
    "print(\"------------------\")"
   ]
  }
 ],
 "metadata": {
  "kernelspec": {
   "display_name": ".venv",
   "language": "python",
   "name": "python3"
  },
  "language_info": {
   "codemirror_mode": {
    "name": "ipython",
    "version": 3
   },
   "file_extension": ".py",
   "mimetype": "text/x-python",
   "name": "python",
   "nbconvert_exporter": "python",
   "pygments_lexer": "ipython3",
   "version": "3.12.3"
  },
  "orig_nbformat": 4
 },
 "nbformat": 4,
 "nbformat_minor": 2
}
